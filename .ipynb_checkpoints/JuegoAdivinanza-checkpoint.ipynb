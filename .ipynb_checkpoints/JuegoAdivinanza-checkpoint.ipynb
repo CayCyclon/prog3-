{
 "cells": [
  {
   "cell_type": "code",
   "execution_count": 5,
   "metadata": {
    "colab": {
     "base_uri": "https://localhost:8080/"
    },
    "executionInfo": {
     "elapsed": 3881,
     "status": "ok",
     "timestamp": 1708460162793,
     "user": {
      "displayName": "Raul Enriquez",
      "userId": "16418242005547883936"
     },
     "user_tz": 240
    },
    "id": "6j__yt89HcDY",
    "outputId": "960af60b-f355-4a74-c064-87c27e6fb567"
   },
   "outputs": [
    {
     "name": "stdout",
     "output_type": "stream",
     "text": [
      "===================================\n",
      "Bienvenido al Juego adivinar numero\n",
      "===================================\n",
      "Digita un numero45\n",
      "Digitaste... 45\n",
      "Felicitaciones, adivinaste el numero\n"
     ]
    }
   ],
   "source": [
    "print('===================================')\n",
    "print('Bienvenido al Juego adivinar numero')\n",
    "print('===================================')\n",
    "numero_secreto=45\n",
    "entrada=int(input('Digita un numero'))\n",
    "print('Digitaste...',entrada)\n",
    "if(entrada==numero_secreto):\n",
    "  print('Felicitaciones, adivinaste el numero')\n",
    "else:\n",
    "  print('Lo siento... no lograste adivinar el numero')\n",
    "\n"
   ]
  },
  {
   "cell_type": "code",
   "execution_count": 6,
   "metadata": {
    "colab": {
     "base_uri": "https://localhost:8080/"
    },
    "executionInfo": {
     "elapsed": 5,
     "status": "ok",
     "timestamp": 1708460355361,
     "user": {
      "displayName": "Raul Enriquez",
      "userId": "16418242005547883936"
     },
     "user_tz": 240
    },
    "id": "XP70FlmzJLh_",
    "outputId": "9cd71cee-8b21-45ca-9aed-47bc78e25daf"
   },
   "outputs": [
    {
     "data": {
      "text/plain": [
       "int"
      ]
     },
     "execution_count": 6,
     "metadata": {},
     "output_type": "execute_result"
    }
   ],
   "source": [
    "type(entrada)"
   ]
  },
  {
   "cell_type": "markdown",
   "metadata": {
    "id": "eWgpi_BBLFG8"
   },
   "source": [
    "#Guiar al usuario si el numero ingresado es mayor o menor al numero que se tiene que adivinar"
   ]
  },
  {
   "cell_type": "code",
   "execution_count": 9,
   "metadata": {
    "colab": {
     "base_uri": "https://localhost:8080/"
    },
    "executionInfo": {
     "elapsed": 2961,
     "status": "ok",
     "timestamp": 1708461058409,
     "user": {
      "displayName": "Raul Enriquez",
      "userId": "16418242005547883936"
     },
     "user_tz": 240
    },
    "id": "SKEh3GUzMTLA",
    "outputId": "a8eb90bd-5f93-46b3-f9ec-ea439cb8c28c"
   },
   "outputs": [
    {
     "name": "stdout",
     "output_type": "stream",
     "text": [
      "===================================\n",
      "Bienvenido al Juego adivinar numero\n",
      "===================================\n",
      "Digita un numero45\n",
      "Digitaste... 45\n",
      "Felicitaciones... Adivinaste el numero\n",
      "Fin del Juego\n"
     ]
    }
   ],
   "source": [
    "print('===================================')\n",
    "print('Bienvenido al Juego adivinar numero')\n",
    "print('===================================')\n",
    "numero_secreto=45\n",
    "entrada=int(input('Digita un numero'))\n",
    "print('Digitaste...',entrada)\n",
    "\n",
    "\n",
    "acertaste= entrada==numero_secreto #iguales\n",
    "mayor=entrada>numero_secreto #mayor\n",
    "menor=entrada<numero_secreto #menor\n",
    "\n",
    "if(acertaste):\n",
    "  print('Felicitaciones... Adivinaste el numero')\n",
    "elif(mayor):\n",
    "  print('Lo siento... el numero que ingresaste es mayor al numero secreto')\n",
    "elif(menor):\n",
    "  print('Lo siento... el numero que ingresaste es menor al numero secreto')\n",
    "print('Fin del Juego')\n",
    "\n",
    "\n",
    "\n",
    "\n",
    "\n"
   ]
  },
  {
   "cell_type": "code",
   "execution_count": null,
   "metadata": {
    "id": "3abc8eCrNagN"
   },
   "outputs": [],
   "source": []
  },
  {
   "cell_type": "markdown",
   "metadata": {
    "id": "YMgLGjE3PLBa"
   },
   "source": [
    "#Implementar Iteraciones"
   ]
  },
  {
   "cell_type": "code",
   "execution_count": 10,
   "metadata": {
    "colab": {
     "base_uri": "https://localhost:8080/"
    },
    "executionInfo": {
     "elapsed": 15862,
     "status": "ok",
     "timestamp": 1708461857071,
     "user": {
      "displayName": "Raul Enriquez",
      "userId": "16418242005547883936"
     },
     "user_tz": 240
    },
    "id": "SBFihn1NPdN4",
    "outputId": "62b71a2e-3795-4efa-8839-9650b25837db"
   },
   "outputs": [
    {
     "name": "stdout",
     "output_type": "stream",
     "text": [
      "===================================\n",
      "Bienvenido al Juego adivinar numero\n",
      "===================================\n",
      "Intento: 1 de 3\n",
      "Digite un numero25\n",
      "Digitaste... 25\n",
      "Lo siento... el numero que ingresaste es menor al numero secreto\n",
      "Intento: 2 de 3\n",
      "Digite un numero46\n",
      "Digitaste... 46\n",
      "Lo siento... el numero que ingresaste es mayor al numero secreto\n",
      "Intento: 3 de 3\n",
      "Digite un numero45\n",
      "Digitaste... 45\n",
      "Felicitaciones... Adivinaste el numero\n",
      "Fin del Juego\n"
     ]
    }
   ],
   "source": [
    "print('===================================')\n",
    "print('Bienvenido al Juego adivinar numero')\n",
    "print('===================================')\n",
    "\n",
    "numero_secreto=45\n",
    "total_intentos=3\n",
    "iteracion=1\n",
    "\n",
    "while(iteracion<=total_intentos):\n",
    "  print('Intento:',iteracion,'de',total_intentos)\n",
    "  entrada=int(input('Digite un numero'))\n",
    "  print('Digitaste...',entrada)\n",
    "\n",
    "  acertaste= entrada==numero_secreto #iguales\n",
    "  mayor=entrada>numero_secreto #mayor\n",
    "  menor=entrada<numero_secreto #menor\n",
    "\n",
    "  if(acertaste):\n",
    "    print('Felicitaciones... Adivinaste el numero')\n",
    "  elif(mayor):\n",
    "    print('Lo siento... el numero que ingresaste es mayor al numero secreto')\n",
    "  elif(menor):\n",
    "    print('Lo siento... el numero que ingresaste es menor al numero secreto')\n",
    "  iteracion=iteracion+1\n",
    "print('Fin del Juego')\n",
    "\n"
   ]
  },
  {
   "cell_type": "markdown",
   "metadata": {
    "id": "FSQ4IddTSeNe"
   },
   "source": [
    "#Mejorando aun el codigo...formateando los strings"
   ]
  },
  {
   "cell_type": "code",
   "execution_count": 11,
   "metadata": {
    "colab": {
     "base_uri": "https://localhost:8080/"
    },
    "executionInfo": {
     "elapsed": 20238,
     "status": "ok",
     "timestamp": 1708462591749,
     "user": {
      "displayName": "Raul Enriquez",
      "userId": "16418242005547883936"
     },
     "user_tz": 240
    },
    "id": "7dA9dqQASm4E",
    "outputId": "aaca9287-673a-493f-d6f3-0ded0c7b4cc5"
   },
   "outputs": [
    {
     "name": "stdout",
     "output_type": "stream",
     "text": [
      "===================================\n",
      "Bienvenido al Juego adivinar numero\n",
      "===================================\n",
      "Intento:1 de 3\n",
      "Digite un numero25\n",
      "Digitaste... 25\n",
      "Lo siento... el numero que ingresaste es menor al numero secreto\n",
      "Intento:2 de 3\n",
      "Digite un numero46\n",
      "Digitaste... 46\n",
      "Lo siento... el numero que ingresaste es mayor al numero secreto\n",
      "Intento:3 de 3\n",
      "Digite un numero45\n",
      "Digitaste... 45\n",
      "Felicitaciones... Adivinaste el numero\n",
      "Fin del Juego\n"
     ]
    }
   ],
   "source": [
    "print('===================================')\n",
    "print('Bienvenido al Juego adivinar numero')\n",
    "print('===================================')\n",
    "\n",
    "numero_secreto=45\n",
    "total_intentos=3\n",
    "iteracion=1\n",
    "\n",
    "while(iteracion<=total_intentos):\n",
    "  print('Intento:{} de {}'.format(iteracion,total_intentos))\n",
    "  entrada=int(input('Digite un numero'))\n",
    "  print('Digitaste...',entrada)\n",
    "\n",
    "  acertaste= entrada==numero_secreto #iguales\n",
    "  mayor=entrada>numero_secreto #mayor\n",
    "  menor=entrada<numero_secreto #menor\n",
    "\n",
    "  if(acertaste):\n",
    "    print('Felicitaciones... Adivinaste el numero')\n",
    "  elif(mayor):\n",
    "    print('Lo siento... el numero que ingresaste es mayor al numero secreto')\n",
    "  elif(menor):\n",
    "    print('Lo siento... el numero que ingresaste es menor al numero secreto')\n",
    "  iteracion=iteracion+1\n",
    "print('Fin del Juego')"
   ]
  },
  {
   "cell_type": "markdown",
   "metadata": {
    "id": "V9LYwZEzTzZO"
   },
   "source": [
    "#Utilizando otras sentencia para LOOPS... for i range(n1,n2,n3) y controlar que el numero ingresado sea positivo"
   ]
  },
  {
   "cell_type": "code",
   "execution_count": 12,
   "metadata": {
    "colab": {
     "base_uri": "https://localhost:8080/"
    },
    "executionInfo": {
     "elapsed": 19102,
     "status": "ok",
     "timestamp": 1708463135597,
     "user": {
      "displayName": "Raul Enriquez",
      "userId": "16418242005547883936"
     },
     "user_tz": 240
    },
    "id": "VmonwDsFUF7V",
    "outputId": "4461ae5c-9d4b-4ff5-f6db-6e314cc61b2e"
   },
   "outputs": [
    {
     "name": "stdout",
     "output_type": "stream",
     "text": [
      "===================================\n",
      "Bienvenido al Juego adivinar numero\n",
      "===================================\n",
      "Intento: 1 de 3\n",
      "Digite un numero entre el 1 al 10040\n",
      "Digitaste... 40\n",
      "Lo siento... el numero que ingresaste es menor al numero secreto\n",
      "Intento: 2 de 3\n",
      "Digite un numero entre el 1 al 10080\n",
      "Digitaste... 80\n",
      "Lo siento... el numero que ingresaste es mayor al numero secreto\n",
      "Intento: 3 de 3\n",
      "Digite un numero entre el 1 al 10045\n",
      "Digitaste... 45\n",
      "Felicitaciones... Adivinaste el numero\n",
      "Fin del Juego\n"
     ]
    }
   ],
   "source": [
    "print('===================================')\n",
    "print('Bienvenido al Juego adivinar numero')\n",
    "print('===================================')\n",
    "\n",
    "numero_secreto=45\n",
    "total_intentos=3\n",
    "\n",
    "for iteracion in range(1,total_intentos+1):\n",
    "  print('Intento: {} de {}'.format(iteracion,total_intentos))\n",
    "  entrada=int(input('Digite un numero entre el 1 al 100'))\n",
    "  print('Digitaste...',entrada)\n",
    "  if(entrada<1 or entrada>100):\n",
    "    print('Ingresar un numero entre 1 y 100')\n",
    "    continue\n",
    "  acertaste= entrada==numero_secreto #iguales\n",
    "  mayor=entrada>numero_secreto #mayor\n",
    "  menor=entrada<numero_secreto #menor\n",
    "  if(acertaste):\n",
    "    print('Felicitaciones... Adivinaste el numero')\n",
    "  elif(mayor):\n",
    "    print('Lo siento... el numero que ingresaste es mayor al numero secreto')\n",
    "  elif(menor):\n",
    "    print('Lo siento... el numero que ingresaste es menor al numero secreto')\n",
    "  iteracion=iteracion+1\n",
    "print('Fin del Juego')\n"
   ]
  },
  {
   "cell_type": "markdown",
   "metadata": {
    "id": "AZlREQ68WFl8"
   },
   "source": [
    "#Generar un numero aleatorio...RANDOM"
   ]
  },
  {
   "cell_type": "code",
   "execution_count": 13,
   "metadata": {
    "colab": {
     "base_uri": "https://localhost:8080/"
    },
    "executionInfo": {
     "elapsed": 333,
     "status": "ok",
     "timestamp": 1708463318726,
     "user": {
      "displayName": "Raul Enriquez",
      "userId": "16418242005547883936"
     },
     "user_tz": 240
    },
    "id": "0jMpXO77WKzy",
    "outputId": "5c84ee05-57a6-450d-ad57-df284654e4b8"
   },
   "outputs": [
    {
     "data": {
      "text/plain": [
       "0.7362643155596112"
      ]
     },
     "execution_count": 13,
     "metadata": {},
     "output_type": "execute_result"
    }
   ],
   "source": [
    "#generar numero random\n",
    "import random\n",
    "random.random()"
   ]
  },
  {
   "cell_type": "code",
   "execution_count": 14,
   "metadata": {
    "colab": {
     "base_uri": "https://localhost:8080/"
    },
    "executionInfo": {
     "elapsed": 4,
     "status": "ok",
     "timestamp": 1708463466907,
     "user": {
      "displayName": "Raul Enriquez",
      "userId": "16418242005547883936"
     },
     "user_tz": 240
    },
    "id": "2WQWNgZEWYLo",
    "outputId": "d60313ce-8d6b-4b71-a817-502c4add1f1b"
   },
   "outputs": [
    {
     "data": {
      "text/plain": [
       "85.98123731465655"
      ]
     },
     "execution_count": 14,
     "metadata": {},
     "output_type": "execute_result"
    }
   ],
   "source": [
    "#genera un num random entre el 1 y el 100\n",
    "numero_random=random.random()*100\n",
    "numero_random"
   ]
  },
  {
   "cell_type": "code",
   "execution_count": 15,
   "metadata": {
    "colab": {
     "base_uri": "https://localhost:8080/"
    },
    "executionInfo": {
     "elapsed": 4,
     "status": "ok",
     "timestamp": 1708463599212,
     "user": {
      "displayName": "Raul Enriquez",
      "userId": "16418242005547883936"
     },
     "user_tz": 240
    },
    "id": "QBWsZSgDW6Ux",
    "outputId": "9311aa9c-0284-4d74-ce67-2e4addd2997b"
   },
   "outputs": [
    {
     "data": {
      "text/plain": [
       "73"
      ]
     },
     "execution_count": 15,
     "metadata": {},
     "output_type": "execute_result"
    }
   ],
   "source": [
    "numero_random=round(random.random()*100)\n",
    "numero_random"
   ]
  },
  {
   "cell_type": "markdown",
   "metadata": {
    "id": "QemGtCmdXdic"
   },
   "source": [
    "#Generar numero entre 1 y 100"
   ]
  },
  {
   "cell_type": "code",
   "execution_count": 28,
   "metadata": {
    "colab": {
     "base_uri": "https://localhost:8080/"
    },
    "executionInfo": {
     "elapsed": 4,
     "status": "ok",
     "timestamp": 1708463703045,
     "user": {
      "displayName": "Raul Enriquez",
      "userId": "16418242005547883936"
     },
     "user_tz": 240
    },
    "id": "cdL6GrZFXapk",
    "outputId": "93085937-ec69-4df6-95ac-8f2f8cec2d51"
   },
   "outputs": [
    {
     "data": {
      "text/plain": [
       "84"
      ]
     },
     "execution_count": 28,
     "metadata": {},
     "output_type": "execute_result"
    }
   ],
   "source": [
    "#Genera numero entre 1 y 100\n",
    "numero_random=random.randrange(1,101)\n",
    "numero_random"
   ]
  },
  {
   "cell_type": "markdown",
   "metadata": {
    "id": "BuMQ3v5mYZkD"
   },
   "source": [
    "#Mejorando el codigo, generando aleatoriamente"
   ]
  },
  {
   "cell_type": "code",
   "execution_count": 30,
   "metadata": {
    "colab": {
     "base_uri": "https://localhost:8080/",
     "height": 682
    },
    "executionInfo": {
     "elapsed": 461405,
     "status": "error",
     "timestamp": 1708464712080,
     "user": {
      "displayName": "Raul Enriquez",
      "userId": "16418242005547883936"
     },
     "user_tz": 240
    },
    "id": "zCWkWN_7YkTE",
    "outputId": "7052cd8b-1029-43f8-b078-6151bb1a4d0b"
   },
   "outputs": [
    {
     "name": "stdout",
     "output_type": "stream",
     "text": [
      "===================================\n",
      "Bienvenido al Juego adivinar numero\n",
      "===================================\n",
      "Intento: 1 de 15\n",
      "Digite un numero entre el 1 al 10080\n",
      "Digitaste... 80\n",
      "Lo siento... el numero que ingresaste es menor al numero secreto\n",
      "Intento: 2 de 15\n",
      "Digite un numero entre el 1 al 10095\n",
      "Digitaste... 95\n",
      "Lo siento... el numero que ingresaste es mayor al numero secreto\n",
      "Intento: 3 de 15\n",
      "Digite un numero entre el 1 al 10090\n",
      "Digitaste... 90\n",
      "Felicitaciones... Adivinaste el numero\n",
      "El numero que se tenia que adivinar es:  90\n",
      "Intento: 4 de 15\n"
     ]
    },
    {
     "ename": "KeyboardInterrupt",
     "evalue": "Interrupted by user",
     "output_type": "error",
     "traceback": [
      "\u001b[0;31m---------------------------------------------------------------------------\u001b[0m",
      "\u001b[0;31mKeyboardInterrupt\u001b[0m                         Traceback (most recent call last)",
      "\u001b[0;32m<ipython-input-30-bb6e39d9a7ab>\u001b[0m in \u001b[0;36m<cell line: 9>\u001b[0;34m()\u001b[0m\n\u001b[1;32m      9\u001b[0m \u001b[0;32mfor\u001b[0m \u001b[0miteracion\u001b[0m \u001b[0;32min\u001b[0m \u001b[0mrange\u001b[0m\u001b[0;34m(\u001b[0m\u001b[0;36m1\u001b[0m\u001b[0;34m,\u001b[0m\u001b[0mtotal_intentos\u001b[0m\u001b[0;34m+\u001b[0m\u001b[0;36m1\u001b[0m\u001b[0;34m)\u001b[0m\u001b[0;34m:\u001b[0m\u001b[0;34m\u001b[0m\u001b[0;34m\u001b[0m\u001b[0m\n\u001b[1;32m     10\u001b[0m   \u001b[0mprint\u001b[0m\u001b[0;34m(\u001b[0m\u001b[0;34m'Intento: {} de {}'\u001b[0m\u001b[0;34m.\u001b[0m\u001b[0mformat\u001b[0m\u001b[0;34m(\u001b[0m\u001b[0miteracion\u001b[0m\u001b[0;34m,\u001b[0m\u001b[0mtotal_intentos\u001b[0m\u001b[0;34m)\u001b[0m\u001b[0;34m)\u001b[0m\u001b[0;34m\u001b[0m\u001b[0;34m\u001b[0m\u001b[0m\n\u001b[0;32m---> 11\u001b[0;31m   \u001b[0mentrada\u001b[0m\u001b[0;34m=\u001b[0m\u001b[0mint\u001b[0m\u001b[0;34m(\u001b[0m\u001b[0minput\u001b[0m\u001b[0;34m(\u001b[0m\u001b[0;34m'Digite un numero entre el 1 al 100'\u001b[0m\u001b[0;34m)\u001b[0m\u001b[0;34m)\u001b[0m\u001b[0;34m\u001b[0m\u001b[0;34m\u001b[0m\u001b[0m\n\u001b[0m\u001b[1;32m     12\u001b[0m   \u001b[0mprint\u001b[0m\u001b[0;34m(\u001b[0m\u001b[0;34m'Digitaste...'\u001b[0m\u001b[0;34m,\u001b[0m\u001b[0mentrada\u001b[0m\u001b[0;34m)\u001b[0m\u001b[0;34m\u001b[0m\u001b[0;34m\u001b[0m\u001b[0m\n\u001b[1;32m     13\u001b[0m   \u001b[0;32mif\u001b[0m\u001b[0;34m(\u001b[0m\u001b[0mentrada\u001b[0m\u001b[0;34m<\u001b[0m\u001b[0;36m1\u001b[0m \u001b[0;32mor\u001b[0m \u001b[0mentrada\u001b[0m\u001b[0;34m>\u001b[0m\u001b[0;36m100\u001b[0m\u001b[0;34m)\u001b[0m\u001b[0;34m:\u001b[0m\u001b[0;34m\u001b[0m\u001b[0;34m\u001b[0m\u001b[0m\n",
      "\u001b[0;32m/usr/local/lib/python3.10/dist-packages/ipykernel/kernelbase.py\u001b[0m in \u001b[0;36mraw_input\u001b[0;34m(self, prompt)\u001b[0m\n\u001b[1;32m    849\u001b[0m                 \u001b[0;34m\"raw_input was called, but this frontend does not support input requests.\"\u001b[0m\u001b[0;34m\u001b[0m\u001b[0;34m\u001b[0m\u001b[0m\n\u001b[1;32m    850\u001b[0m             )\n\u001b[0;32m--> 851\u001b[0;31m         return self._input_request(str(prompt),\n\u001b[0m\u001b[1;32m    852\u001b[0m             \u001b[0mself\u001b[0m\u001b[0;34m.\u001b[0m\u001b[0m_parent_ident\u001b[0m\u001b[0;34m,\u001b[0m\u001b[0;34m\u001b[0m\u001b[0;34m\u001b[0m\u001b[0m\n\u001b[1;32m    853\u001b[0m             \u001b[0mself\u001b[0m\u001b[0;34m.\u001b[0m\u001b[0m_parent_header\u001b[0m\u001b[0;34m,\u001b[0m\u001b[0;34m\u001b[0m\u001b[0;34m\u001b[0m\u001b[0m\n",
      "\u001b[0;32m/usr/local/lib/python3.10/dist-packages/ipykernel/kernelbase.py\u001b[0m in \u001b[0;36m_input_request\u001b[0;34m(self, prompt, ident, parent, password)\u001b[0m\n\u001b[1;32m    893\u001b[0m             \u001b[0;32mexcept\u001b[0m \u001b[0mKeyboardInterrupt\u001b[0m\u001b[0;34m:\u001b[0m\u001b[0;34m\u001b[0m\u001b[0;34m\u001b[0m\u001b[0m\n\u001b[1;32m    894\u001b[0m                 \u001b[0;31m# re-raise KeyboardInterrupt, to truncate traceback\u001b[0m\u001b[0;34m\u001b[0m\u001b[0;34m\u001b[0m\u001b[0m\n\u001b[0;32m--> 895\u001b[0;31m                 \u001b[0;32mraise\u001b[0m \u001b[0mKeyboardInterrupt\u001b[0m\u001b[0;34m(\u001b[0m\u001b[0;34m\"Interrupted by user\"\u001b[0m\u001b[0;34m)\u001b[0m \u001b[0;32mfrom\u001b[0m \u001b[0;32mNone\u001b[0m\u001b[0;34m\u001b[0m\u001b[0;34m\u001b[0m\u001b[0m\n\u001b[0m\u001b[1;32m    896\u001b[0m             \u001b[0;32mexcept\u001b[0m \u001b[0mException\u001b[0m \u001b[0;32mas\u001b[0m \u001b[0me\u001b[0m\u001b[0;34m:\u001b[0m\u001b[0;34m\u001b[0m\u001b[0;34m\u001b[0m\u001b[0m\n\u001b[1;32m    897\u001b[0m                 \u001b[0mself\u001b[0m\u001b[0;34m.\u001b[0m\u001b[0mlog\u001b[0m\u001b[0;34m.\u001b[0m\u001b[0mwarning\u001b[0m\u001b[0;34m(\u001b[0m\u001b[0;34m\"Invalid Message:\"\u001b[0m\u001b[0;34m,\u001b[0m \u001b[0mexc_info\u001b[0m\u001b[0;34m=\u001b[0m\u001b[0;32mTrue\u001b[0m\u001b[0;34m)\u001b[0m\u001b[0;34m\u001b[0m\u001b[0;34m\u001b[0m\u001b[0m\n",
      "\u001b[0;31mKeyboardInterrupt\u001b[0m: Interrupted by user"
     ]
    }
   ],
   "source": [
    "import random\n",
    "print('===================================')\n",
    "print('Bienvenido al Juego adivinar numero')\n",
    "print('===================================')\n",
    "\n",
    "numero_secreto=random.randrange(1,101)\n",
    "total_intentos=15\n",
    "\n",
    "for iteracion in range(1,total_intentos+1):\n",
    "  print('Intento: {} de {}'.format(iteracion,total_intentos))\n",
    "  entrada=int(input('Digite un numero entre el 1 al 100'))\n",
    "  print('Digitaste...',entrada)\n",
    "  if(entrada<1 or entrada>100):\n",
    "    print('Ingresar un numero entre 1 y 100')\n",
    "    continue\n",
    "  acertaste= entrada==numero_secreto #iguales\n",
    "  mayor=entrada>numero_secreto #mayor\n",
    "  menor=entrada<numero_secreto #menor\n",
    "  if(acertaste):\n",
    "    print('Felicitaciones... Adivinaste el numero')\n",
    "    print('El numero que se tenia que adivinar es: ',numero_secreto)\n",
    "  elif(mayor):\n",
    "    print('Lo siento... el numero que ingresaste es mayor al numero secreto')\n",
    "  elif(menor):\n",
    "    print('Lo siento... el numero que ingresaste es menor al numero secreto')\n",
    "  iteracion=iteracion+1\n",
    "print('Fin del Juego')\n",
    "\n",
    "\n"
   ]
  },
  {
   "cell_type": "markdown",
   "metadata": {
    "id": "26lyG-dHavYD"
   },
   "source": [
    "#Definiendo nivel de dificultad"
   ]
  },
  {
   "cell_type": "code",
   "execution_count": 31,
   "metadata": {
    "colab": {
     "base_uri": "https://localhost:8080/"
    },
    "executionInfo": {
     "elapsed": 32832,
     "status": "ok",
     "timestamp": 1708464825208,
     "user": {
      "displayName": "Raul Enriquez",
      "userId": "16418242005547883936"
     },
     "user_tz": 240
    },
    "id": "rgCYV3jbavMD",
    "outputId": "48d3bed2-62ce-4a10-85af-913ac517c7c0"
   },
   "outputs": [
    {
     "name": "stdout",
     "output_type": "stream",
     "text": [
      "===================================\n",
      "Bienvenido al Juego adivinar numero\n",
      "===================================\n",
      "Selecciona el nivel de dificultad\n",
      "(1)Fácil  (2)Medio  (3)Dificil\n",
      "Ingrese el nivel de dificultad:3\n",
      "Intento: 1 de 5\n",
      "Digite un numero entre el 1 al 10045\n",
      "Digitaste... 45\n",
      "Lo siento... el numero que ingresaste es menor al numero secreto\n",
      "Intento: 2 de 5\n",
      "Digite un numero entre el 1 al 10060\n",
      "Digitaste... 60\n",
      "Lo siento... el numero que ingresaste es mayor al numero secreto\n",
      "Intento: 3 de 5\n",
      "Digite un numero entre el 1 al 10055\n",
      "Digitaste... 55\n",
      "Lo siento... el numero que ingresaste es menor al numero secreto\n",
      "Intento: 4 de 5\n",
      "Digite un numero entre el 1 al 10057\n",
      "Digitaste... 57\n",
      "Lo siento... el numero que ingresaste es mayor al numero secreto\n",
      "Intento: 5 de 5\n",
      "Digite un numero entre el 1 al 10056\n",
      "Digitaste... 56\n",
      "Felicitaciones... Adivinaste el numero\n",
      "El numero que se tenia que adivinar es:  56\n",
      "Fin del Juego\n"
     ]
    }
   ],
   "source": [
    "import random\n",
    "print('===================================')\n",
    "print('Bienvenido al Juego adivinar numero')\n",
    "print('===================================')\n",
    "\n",
    "numero_secreto=random.randrange(1,101)\n",
    "\n",
    "print('Selecciona el nivel de dificultad')\n",
    "print('(1)Fácil  (2)Medio  (3)Dificil')\n",
    "nivel=int(input('Ingrese el nivel de dificultad:'))\n",
    "if(nivel==1):\n",
    "  total_intentos=20\n",
    "elif(nivel==2):\n",
    "  total_intentos=10\n",
    "else:\n",
    "  total_intentos=5\n",
    "\n",
    "for iteracion in range(1,total_intentos+1):\n",
    "  print('Intento: {} de {}'.format(iteracion,total_intentos))\n",
    "  entrada=int(input('Digite un numero entre el 1 al 100'))\n",
    "  print('Digitaste...',entrada)\n",
    "  if(entrada<1 or entrada>100):\n",
    "    print('Ingresar un numero entre 1 y 100')\n",
    "    continue\n",
    "  acertaste= entrada==numero_secreto #iguales\n",
    "  mayor=entrada>numero_secreto #mayor\n",
    "  menor=entrada<numero_secreto #menor\n",
    "  if(acertaste):\n",
    "    print('Felicitaciones... Adivinaste el numero')\n",
    "    print('El numero que se tenia que adivinar es: ',numero_secreto)\n",
    "  elif(mayor):\n",
    "    print('Lo siento... el numero que ingresaste es mayor al numero secreto')\n",
    "  elif(menor):\n",
    "    print('Lo siento... el numero que ingresaste es menor al numero secreto')\n",
    "  iteracion=iteracion+1\n",
    "print('Fin del Juego')\n",
    "\n"
   ]
  }
 ],
 "metadata": {
  "colab": {
   "authorship_tag": "ABX9TyNg4HlDxudSrB5gjuUX2wzF",
   "provenance": []
  },
  "kernelspec": {
   "display_name": "Python 3",
   "name": "python3"
  },
  "language_info": {
   "name": "python"
  }
 },
 "nbformat": 4,
 "nbformat_minor": 0
}
