{
 "cells": [
  {
   "cell_type": "code",
   "execution_count": 1,
   "id": "45fdfe22",
   "metadata": {},
   "outputs": [
    {
     "name": "stdout",
     "output_type": "stream",
     "text": [
      "Ingrese su nombreCamil\n",
      "Ingrese su edad 19\n",
      "Mi nombre es Camil mi edad es 19\n"
     ]
    }
   ],
   "source": [
    "nombre = input(\"Ingrese su nombre\") \n",
    "edad = int(input(\"Ingrese su edad \"))\n",
    "\n",
    "print(f\"Mi nombre es {nombre} mi edad es {edad}\")"
   ]
  },
  {
   "cell_type": "code",
   "execution_count": null,
   "id": "e7a42c52",
   "metadata": {},
   "outputs": [],
   "source": []
  }
 ],
 "metadata": {
  "kernelspec": {
   "display_name": "Python 3 (ipykernel)",
   "language": "python",
   "name": "python3"
  },
  "language_info": {
   "codemirror_mode": {
    "name": "ipython",
    "version": 3
   },
   "file_extension": ".py",
   "mimetype": "text/x-python",
   "name": "python",
   "nbconvert_exporter": "python",
   "pygments_lexer": "ipython3",
   "version": "3.11.5"
  }
 },
 "nbformat": 4,
 "nbformat_minor": 5
}
